{
 "cells": [
  {
   "cell_type": "code",
   "execution_count": 1,
   "metadata": {},
   "outputs": [
    {
     "name": "stdout",
     "output_type": "stream",
     "text": [
      "5\n"
     ]
    }
   ],
   "source": [
    "# Question 1\n",
    "def length(list):\n",
    "    return len(list)\n",
    "\n",
    "#use of function\n",
    "list = [1,2,3,4,5]\n",
    "print(length(list))"
   ]
  },
  {
   "cell_type": "code",
   "execution_count": 2,
   "metadata": {},
   "outputs": [
    {
     "name": "stdout",
     "output_type": "stream",
     "text": [
      "P\n",
      "y\n",
      "t\n",
      "h\n",
      "o\n",
      "n\n"
     ]
    }
   ],
   "source": [
    "# Question 2\n",
    "def printV(string):\n",
    "    for char in string:\n",
    "        print(char)\n",
    "\n",
    "#use of function\n",
    "string = \"Python\"\n",
    "printV(string)"
   ]
  },
  {
   "cell_type": "code",
   "execution_count": 4,
   "metadata": {},
   "outputs": [
    {
     "name": "stdout",
     "output_type": "stream",
     "text": [
      "R$ 80,00\n"
     ]
    }
   ],
   "source": [
    "# Question 3\n",
    "weight = int(input(\"what's your weight: \"))\n",
    "\n",
    "if weight <= 10:\n",
    "    print(\"R$ 50,00\")\n",
    "elif weight <=20:\n",
    "    print(\"R$ 80,00\")\n",
    "else:\n",
    "    print(\"Not accepted\")"
   ]
  }
 ],
 "metadata": {
  "kernelspec": {
   "display_name": "base",
   "language": "python",
   "name": "python3"
  },
  "language_info": {
   "codemirror_mode": {
    "name": "ipython",
    "version": 3
   },
   "file_extension": ".py",
   "mimetype": "text/x-python",
   "name": "python",
   "nbconvert_exporter": "python",
   "pygments_lexer": "ipython3",
   "version": "3.12.4"
  }
 },
 "nbformat": 4,
 "nbformat_minor": 2
}
