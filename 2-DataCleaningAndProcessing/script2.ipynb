{
 "cells": [
  {
   "cell_type": "code",
   "execution_count": 1,
   "id": "bafeb279-e019-44a5-a81a-7218c25820d4",
   "metadata": {},
   "outputs": [],
   "source": [
    "import pandas as pd\n",
    "import statistics as sts"
   ]
  },
  {
   "cell_type": "code",
   "execution_count": 2,
   "id": "95f08089-5d3b-4971-a407-cfe9a8bca5c1",
   "metadata": {},
   "outputs": [
    {
     "data": {
      "text/plain": [
       "Aparencia      0\n",
       "Temperatura    0\n",
       "Umidade        1\n",
       "Vento          1\n",
       "Jogar          0\n",
       "dtype: int64"
      ]
     },
     "execution_count": 2,
     "metadata": {},
     "output_type": "execute_result"
    }
   ],
   "source": [
    "data = pd.read_csv(\"tempo.csv\", sep = \";\")\n",
    "data\n",
    "data.isnull().sum()"
   ]
  },
  {
   "cell_type": "code",
   "execution_count": 3,
   "id": "0962e2d4-1d47-4e35-bf2b-1f99b947318d",
   "metadata": {},
   "outputs": [
    {
     "data": {
      "text/plain": [
       "Aparencia\n",
       "chuva      5\n",
       "menos      1\n",
       "nublado    3\n",
       "sol        5\n",
       "dtype: int64"
      ]
     },
     "execution_count": 3,
     "metadata": {},
     "output_type": "execute_result"
    }
   ],
   "source": [
    "# ---- Aparencia ----\n",
    "group = data.groupby([\"Aparencia\"]).size()\n",
    "group"
   ]
  },
  {
   "cell_type": "code",
   "execution_count": 4,
   "id": "203a9151-8cf1-4fa2-b0aa-e6f8285f68cc",
   "metadata": {},
   "outputs": [],
   "source": [
    "data.loc[data[\"Aparencia\"] == \"menos\", \"Aparencia\"] = \"sol\" "
   ]
  },
  {
   "cell_type": "code",
   "execution_count": 5,
   "id": "dd85c7f6-19d0-4aed-9e86-843d35d51f63",
   "metadata": {},
   "outputs": [
    {
     "data": {
      "text/plain": [
       "count      14.000000\n",
       "mean      155.571429\n",
       "std       306.433759\n",
       "min        64.000000\n",
       "25%        69.250000\n",
       "50%        73.500000\n",
       "75%        80.750000\n",
       "max      1220.000000\n",
       "Name: Temperatura, dtype: float64"
      ]
     },
     "execution_count": 5,
     "metadata": {},
     "output_type": "execute_result"
    }
   ],
   "source": [
    "# ---- Temperatura ----\n",
    "data[\"Temperatura\"].describe()"
   ]
  },
  {
   "cell_type": "code",
   "execution_count": 14,
   "id": "44f35bd9-c903-4ae0-be8b-b4f7a0ce5d6d",
   "metadata": {},
   "outputs": [],
   "source": [
    "median = sts.median(data[\"Temperatura\"])\n",
    "data.loc[(data[\"Temperatura\"] < -130) | (data[\"Temperatura\"] > 130), \"Temperatura\"] = median"
   ]
  },
  {
   "cell_type": "code",
   "execution_count": 7,
   "id": "2075f65d-f216-4c7c-8896-8adca3796055",
   "metadata": {},
   "outputs": [
    {
     "data": {
      "text/plain": [
       "count     13.000000\n",
       "mean      89.769231\n",
       "std       34.540203\n",
       "min       65.000000\n",
       "25%       70.000000\n",
       "50%       85.000000\n",
       "75%       90.000000\n",
       "max      200.000000\n",
       "Name: Umidade, dtype: float64"
      ]
     },
     "execution_count": 7,
     "metadata": {},
     "output_type": "execute_result"
    }
   ],
   "source": [
    "# ---- Umidade ----\n",
    "data[\"Umidade\"].describe()"
   ]
  },
  {
   "cell_type": "code",
   "execution_count": 8,
   "id": "4ba10c47-77e0-4984-b0b6-54f7bc761e37",
   "metadata": {},
   "outputs": [],
   "source": [
    "median = sts.median(data[\"Umidade\"])\n",
    "data[\"Umidade\"].fillna(median)\n",
    "data.loc[(data[\"Umidade\"] < 0) | (data[\"Umidade\"] > 100), \"Umidade\"] = median"
   ]
  },
  {
   "cell_type": "code",
   "execution_count": 9,
   "id": "0980d7de-1c71-48ea-9d7f-bbfde44cfd97",
   "metadata": {},
   "outputs": [
    {
     "data": {
      "text/plain": [
       "Vento\n",
       "FALSO         7\n",
       "VERDADEIRO    6\n",
       "dtype: int64"
      ]
     },
     "execution_count": 9,
     "metadata": {},
     "output_type": "execute_result"
    }
   ],
   "source": [
    "# ---- Vento ----\n",
    "group = data.groupby([\"Vento\"]).size()\n",
    "group"
   ]
  },
  {
   "cell_type": "code",
   "execution_count": 12,
   "id": "4e1f31f5-4ab9-493a-80eb-bec6f77d4b40",
   "metadata": {},
   "outputs": [],
   "source": [
    "data[\"Vento\"].fillna(\"FALSO\", inplace=True)"
   ]
  },
  {
   "cell_type": "code",
   "execution_count": 13,
   "id": "eff3da40-bebb-41f0-a977-7e08a8f398ac",
   "metadata": {},
   "outputs": [
    {
     "data": {
      "text/plain": [
       "Jogar\n",
       "nao    5\n",
       "sim    9\n",
       "dtype: int64"
      ]
     },
     "execution_count": 13,
     "metadata": {},
     "output_type": "execute_result"
    }
   ],
   "source": [
    "# ---- Jogar ----\n",
    "group = data.groupby([\"Jogar\"]).size()\n",
    "group"
   ]
  }
 ],
 "metadata": {
  "kernelspec": {
   "display_name": "Python 3 (ipykernel)",
   "language": "python",
   "name": "python3"
  },
  "language_info": {
   "codemirror_mode": {
    "name": "ipython",
    "version": 3
   },
   "file_extension": ".py",
   "mimetype": "text/x-python",
   "name": "python",
   "nbconvert_exporter": "python",
   "pygments_lexer": "ipython3",
   "version": "3.12.4"
  }
 },
 "nbformat": 4,
 "nbformat_minor": 5
}
